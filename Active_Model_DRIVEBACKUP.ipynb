{
  "cells": [
    {
      "cell_type": "markdown",
      "metadata": {
        "id": "D8g3_OkUNOuD"
      },
      "source": [
        "## **Import the TensorFlow library**"
      ]
    },
    {
      "cell_type": "markdown",
      "metadata": {
        "id": "UKk-D3IZkkbE"
      },
      "source": [
        "This code contains a small script that is used for generating a folder full of images. The idea is to show these images to the OpenMV camera when the training with the OL methos is required. Since the idea is to apply a supervised training is required to have a ground truth forthe computation of the error that the model is doing. This script fills a directory with images of digits and creates a txt file in which all the labels are saved. "
      ]
    },
    {
      "cell_type": "code",
      "execution_count": 2,
      "metadata": {
        "id": "XCqcQuaBLNgF"
      },
      "outputs": [],
      "source": [
        "import tensorflow as tf\n",
        "from tensorflow import keras\n",
        "from tensorflow.keras.datasets import mnist\n",
        "from tensorflow.keras.layers import Dropout, Dense, Flatten, Reshape\n",
        "from tensorflow.keras.layers import Conv2D, MaxPooling2D\n",
        "from tensorflow.keras.models import Sequential\n",
        "from tensorflow.keras import backend as K\n",
        "from tensorflow.keras import optimizers\n",
        "\n",
        "import matplotlib.pyplot as plt \n",
        "import matplotlib.image as mpimg\n",
        "from PIL import Image\n",
        "\n",
        "import numpy as np\n",
        "import pandas as pd\n",
        "import seaborn as sns\n",
        "import random \n",
        "import csv \n",
        "import sys\n",
        "import os\n",
        "import re\n",
        "from random import seed\n",
        "\n",
        "import time\n",
        "\n",
        "import glob\n",
        "from keras import applications\n",
        "#from keras.applications import vgg19\n",
        "from sklearn.model_selection import train_test_split\n",
        "from sklearn.cluster import KMeans\n",
        "from sklearn.mixture import GaussianMixture\n",
        "from sklearn.decomposition import PCA\n",
        "from sklearn.metrics import accuracy_score, f1_score\n",
        "\n",
        "from numpy.ma.core import size\n",
        "\n",
        "ROOT_PATH = os.path.abspath('')\n",
        "sys.path.insert(0, ROOT_PATH + '/lib')\n",
        "from lib.simulation_lib import *"
      ]
    },
    {
      "cell_type": "markdown",
      "metadata": {
        "id": "xT-FwynaWeYP"
      },
      "source": [
        "# LOAD DATASETS"
      ]
    },
    {
      "cell_type": "code",
      "execution_count": 3,
      "metadata": {
        "colab": {
          "base_uri": "https://localhost:8080/"
        },
        "id": "R0r5dpq1WeYQ",
        "outputId": "c4a2fb19-27ee-4b29-e29c-64d008f037f9"
      },
      "outputs": [
        {
          "name": "stdout",
          "output_type": "stream",
          "text": [
            "The original dataset shapes from MNIST are\n",
            "    Train dataset shape: (60000, 28, 28)\n",
            "    Test dataset shape:  (10000, 28, 28)\n"
          ]
        }
      ],
      "source": [
        "(data_train, label_train),(data_test, label_test) = mnist.load_data() # Load data\n",
        "print('The original dataset shapes from MNIST are')\n",
        "print(f'    Train dataset shape: {data_train.shape}')\n",
        "print(f'    Test dataset shape:  {data_test.shape}')"
      ]
    },
    {
      "cell_type": "code",
      "execution_count": 4,
      "metadata": {
        "id": "8eEeuvvEWeYR"
      },
      "outputs": [],
      "source": [
        "train_samples = label_train.shape[0]\n",
        "test_samples  = label_test.shape[0]\n",
        "img_rows, img_cols = 28, 28\n",
        "\n",
        "trainLow_samples = np.sum(np.where(label_train < 6, 1, 0))\n",
        "testLow_samples  = np.sum(np.where(label_test  < 6, 1, 0))\n",
        "\n",
        "# separate in containers data that is lower and higer than 6\n",
        "# TRAIN - LOW\n",
        "data_low_train   = np.zeros([trainLow_samples,28,28])\n",
        "label_low_train  = np.zeros(trainLow_samples)\n",
        "#       - HIGH\n",
        "data_high_train  = np.zeros([train_samples-trainLow_samples,28,28])\n",
        "label_high_train = np.zeros(train_samples-trainLow_samples)\n",
        "\n",
        "# TEST - LOW\n",
        "data_low_test   = np.zeros([testLow_samples,28,28])\n",
        "label_low_test  = np.zeros(testLow_samples)\n",
        "\n",
        "#      - HIGH\n",
        "data_high_test  = np.zeros([test_samples-testLow_samples,28,28])\n",
        "label_high_test = np.zeros(test_samples-testLow_samples)\n",
        "\n",
        "j,k = 0,0\n",
        "for i in range(0,train_samples):  \n",
        "    if(label_train[i]<6):\n",
        "        data_low_train[j,:,:] = data_train[i,:,:]\n",
        "        label_low_train[j]    = label_train[i]\n",
        "        j+=1\n",
        "    else:\n",
        "        data_high_train[k,:,:] = data_train[i,:,:]\n",
        "        label_high_train[k]    = label_train[i]\n",
        "        k+=1\n",
        "\n",
        "\n",
        "j,k = 0,0\n",
        "for i in range(0,test_samples):\n",
        "    if(label_test[i]>5):\n",
        "        data_high_test[k,:,:] = data_test[i,:,:]\n",
        "        label_high_test[k]    = label_test[i]\n",
        "        k+=1  \n",
        "    else:\n",
        "        data_low_test[j,:,:] = data_test[i,:,:]\n",
        "        label_low_test[j]    = label_test[i]\n",
        "        j+=1"
      ]
    },
    {
      "cell_type": "code",
      "execution_count": 5,
      "metadata": {
        "colab": {
          "base_uri": "https://localhost:8080/"
        },
        "id": "kW8Pi-ndWeYS",
        "outputId": "3befb357-6454-43fb-92d1-25d3caa84183"
      },
      "outputs": [
        {
          "name": "stdout",
          "output_type": "stream",
          "text": [
            "After the separation of the dataset in groups higer and lower/equal than 6 the datasets are:\n",
            "     Train dataset lower than 6 has shape:  (36017, 28, 28, 1)\n",
            "     Train dataset higher than 6 has shape: (23983, 28, 28, 1)\n",
            "\n",
            "     Test dataset lower than 6 has shape:  (6031, 28, 28, 1)\n",
            "     Test dataset higher than 6 has shape: (3969, 28, 28, 1)\n"
          ]
        }
      ],
      "source": [
        "# Does something I don't know\n",
        "if K.image_data_format() == 'channels_first':\n",
        "    data_low_train  = data_low_train.reshape(data_low_train.shape[0], 1, img_rows, img_cols)\n",
        "    data_high_train = data_high_train.reshape(data_high_train.shape[0], 1, img_rows, img_cols)\n",
        "    data_low_test   = data_low_test.reshape(data_low_test.shape[0], 1, img_rows, img_cols)\n",
        "    data_high_test  = data_high_test.reshape(data_high_test.shape[0], 1, img_rows, img_cols)\n",
        "    input_shape = (1, img_rows, img_cols)\n",
        "else:\n",
        "    data_low_train  = data_low_train.reshape(data_low_train.shape[0], img_rows, img_cols, 1)\n",
        "    data_high_train = data_high_train.reshape(data_high_train.shape[0], img_rows, img_cols, 1)\n",
        "    data_low_test   = data_low_test.reshape(data_low_test.shape[0], img_rows, img_cols, 1)\n",
        "    data_high_test  = data_high_test.reshape(data_high_test.shape[0], img_rows, img_cols, 1)\n",
        "    input_shape = (img_rows, img_cols, 1)\n",
        "    \n",
        "    \n",
        "print('After the separation of the dataset in groups higer and lower/equal than 6 the datasets are:')\n",
        "print(f'     Train dataset lower than 6 has shape:  {data_low_train.shape}')\n",
        "print(f'     Train dataset higher than 6 has shape: {data_high_train.shape}')\n",
        "print()\n",
        "print(f'     Test dataset lower than 6 has shape:  {data_low_test.shape}')\n",
        "print(f'     Test dataset higher than 6 has shape: {data_high_test.shape}')"
      ]
    },
    {
      "cell_type": "code",
      "execution_count": 6,
      "metadata": {
        "id": "6gbgoO-yWeYT"
      },
      "outputs": [],
      "source": [
        "# Normalize the colors from 0-255 to 0-1\n",
        "data_low_train  = data_low_train.astype(np.float32) / 255.0\n",
        "data_high_train = data_high_train.astype(np.float32) / 255.0\n",
        "data_low_test   = data_low_test.astype(np.float32) / 255.0\n",
        "data_high_test  = data_high_test.astype(np.float32) / 255.0"
      ]
    },
    {
      "cell_type": "markdown",
      "metadata": {
        "id": "XCdpahT2WeYV"
      },
      "source": [
        "# LOAD TRAINED MODEL AND FEATURES"
      ]
    },
    {
      "cell_type": "code",
      "execution_count": 7,
      "metadata": {
        "id": "SBDHiZjrWeYW"
      },
      "outputs": [],
      "source": [
        "# MODEL_PATH = ROOT_PATH + \"/Saved_models/Backup_models/Last_trained_model/\"\n"
      ]
    },
    {
      "cell_type": "code",
      "execution_count": 8,
      "metadata": {
        "id": "ukq10Qbjvikl"
      },
      "outputs": [],
      "source": [
        "###features = np.loadtxt(MODEL_PATH + 'Original_model/ll_features_10.txt')"
      ]
    },
    {
      "cell_type": "code",
      "execution_count": 9,
      "metadata": {
        "id": "7ZgRJPXFP4V8"
      },
      "outputs": [],
      "source": [
        "#labels_features = np.loadtxt(MODEL_PATH + 'Original_model/ll_labels_features_10.txt')\n",
        "#labels_features = labels_features.astype(int)"
      ]
    },
    {
      "cell_type": "code",
      "execution_count": 10,
      "metadata": {
        "id": "i4XVO9QXWeYW"
      },
      "outputs": [],
      "source": [
        "#model = keras.models.load_model(MODEL_PATH + 'Original_model/mnist_cnn.h5')"
      ]
    },
    {
      "cell_type": "code",
      "execution_count": 11,
      "metadata": {
        "id": "puX6mAw_IbXs"
      },
      "outputs": [],
      "source": [
        "#model_frozen = keras.models.load_model(MODEL_PATH + 'Frozen_model/omv_mnist_cnn.h5')"
      ]
    },
    {
      "cell_type": "code",
      "execution_count": 12,
      "metadata": {
        "colab": {
          "base_uri": "https://localhost:8080/"
        },
        "id": "sIYidkyNWeYX",
        "outputId": "b859ca3e-1493-49ed-bfaa-8f286ba8acc6"
      },
      "outputs": [],
      "source": [
        "#model.summary()"
      ]
    },
    {
      "cell_type": "markdown",
      "metadata": {
        "id": "VVfY-k_6IgCZ"
      },
      "source": [
        "# K-MEAN FUNCTIONS"
      ]
    },
    {
      "cell_type": "code",
      "execution_count": 14,
      "metadata": {
        "id": "23UkPcc8pXee"
      },
      "outputs": [],
      "source": [
        "def create_k_mean(data, number_of_clusters):\n",
        "    # n_jobs is set to -1 to use all available CPU cores. This makes a big difference on an 8-core CPU\n",
        "    # especially when the data size gets much bigger. #perfMatters\n",
        "\n",
        "    k = KMeans(n_clusters=number_of_clusters, n_init=100)\n",
        "    # k = KMeans(n_clusters=number_of_clusters, n_init=20, max_iter=500)\n",
        "\n",
        "    # Let's do some timings to see how long it takes to train.\n",
        "    start = time.time()\n",
        "\n",
        "    # Train it up\n",
        "    k.fit(data)\n",
        "\n",
        "    # Stop the timing\n",
        "    end = time.time()\n",
        "\n",
        "    # And see how long that took\n",
        "    # print(\"Training took {} seconds\".format(end - start))\n",
        "\n",
        "    return k"
      ]
    },
    {
      "cell_type": "code",
      "execution_count": 15,
      "metadata": {
        "id": "qs1R0ufTpf7e"
      },
      "outputs": [],
      "source": [
        "def cluster_label_count(clusters, labels):\n",
        "    count = {}\n",
        "\n",
        "    # Get unique clusters and labels\n",
        "    unique_clusters = list(set(clusters))\n",
        "    unique_labels = list(set(labels))\n",
        "\n",
        "    # Create counter for each cluster/label combination and set it to 0\n",
        "    for cluster in unique_clusters:\n",
        "        count[cluster] = {}\n",
        "\n",
        "        for label in unique_labels:\n",
        "            count[cluster][label] = 0\n",
        "\n",
        "    # Let's count\n",
        "    for i in range(len(clusters)):\n",
        "        count[clusters[i]][labels[i]] += 1\n",
        "\n",
        "    cluster_df = pd.DataFrame(count)\n",
        "\n",
        "    return cluster_df, count"
      ]
    },
    {
      "cell_type": "code",
      "execution_count": 16,
      "metadata": {
        "id": "haWEOGNQpi46"
      },
      "outputs": [],
      "source": [
        "def k_mean_clustering(features_x_test, features_init, y_test, labels_features_init, n_cluster, batch_size):\n",
        "\n",
        "  # creo due vettori vuoti uno per le label lungo (n_features) l'altro per le features lungo (n_features,512)\n",
        "  features = np.zeros((int(n_cluster*len(labels_features_init)/10),512))\n",
        "  labels_features = np.zeros(int(n_cluster*len(labels_features_init)/10))\n",
        "  k = 0 #inizializzo un counter\n",
        "\n",
        "  #passo il vettore salvato nel file e mi tiro fuori solo i numeri che mi interessano. Se ho 6 cluster, mi interessano solo gli 0, 1, 2, 3, 4 e 5.\n",
        "  for i in range(0,len(features_init)-1):\n",
        "      if labels_features_init[i] < n_cluster:\n",
        "        features[k,:] = features_init[i,:]\n",
        "        labels_features[k] = labels_features_init[i]\n",
        "        k += 1\n",
        "  \n",
        "  labels_features = labels_features.astype(int)\n",
        "\n",
        "  # aggiungo la feature che di cui ci interessa trovare la pseudo label\n",
        "  features = np.concatenate((features, features_x_test))\n",
        "  labels_features = np.append(labels_features, y_test)\n",
        "  n_count = np.zeros((batch_size, n_cluster)).astype(int) #inizializzo un vettore che ci permette di contare per ogni cluster quali numeri sono stati inseriti\n",
        "\n",
        "  # viene fatto il clustering\n",
        "  k_mean = create_k_mean(features ,n_cluster)\n",
        "\n",
        "  # qui viene riempito il vettore conteggio. Se l'immagine che ci interessa classificare è stata inserita nel cluster 0, il ciclo guarderà \n",
        "  # tutte le labels delle immagini che sono state messe in quel cluster e la label che compare più volte sarà la pseudo_label della nostra immagine\n",
        "  for j in range(1, batch_size+1):\n",
        "    for i in range(0,len(k_mean.labels_) - batch_size):\n",
        "        if k_mean.labels_[i] == k_mean.labels_[-j]:\n",
        "         if labels_features[i] == 0:\n",
        "           n_count[-j,0] +=1\n",
        "         if labels_features[i] == 1:\n",
        "           n_count[-j,1] +=1\n",
        "         if labels_features[i] == 2:\n",
        "           n_count[-j,2] +=1\n",
        "         if labels_features[i] == 3:\n",
        "           n_count[-j,3] +=1\n",
        "         if labels_features[i] == 4:\n",
        "           n_count[-j,4] +=1\n",
        "         if labels_features[i] == 5:\n",
        "           n_count[-j,5] +=1\n",
        "         if labels_features[i] == 6:\n",
        "           n_count[-j,6] +=1\n",
        "         if labels_features[i] == 7:\n",
        "           n_count[-j,7] +=1\n",
        "         if labels_features[i] == 8:\n",
        "           n_count[-j,8] +=1\n",
        "         if labels_features[i] == 9:\n",
        "           n_count[-j,9] +=1\n",
        "  \n",
        "  pseudo_label = np.zeros(batch_size)\n",
        "  err = 0      \n",
        "\n",
        "  # We extract the label for the new element\n",
        "  for i in range(0,batch_size):\n",
        "    pseudo_label[i]  =   np.argmax(n_count[i,:])  \n",
        "    if pseudo_label[i]!= labels_features[i+int(n_cluster*len(labels_features_init)/10)]:\n",
        "      err += 1\n",
        "  # CHECK\n",
        "\n",
        "  #rint(\"The vector count is: \")\n",
        "  #print(n_count)\n",
        "  #print(\"\\n\")\n",
        "    \n",
        "  #print(\"The pseudo label is are: \")\n",
        "  #print(pseudo_label)\n",
        "  #print(\"\\n\")\n",
        "  #print(\"The true label is are: \")\n",
        "  #print(y_test)\n",
        "  #print(\"\\n\")\n",
        "\n",
        "  #print(\"The image has been clustered in the group:  \")\n",
        "  #print(k_mean.labels_[-1])\n",
        "  #print(\"\\n\")\n",
        "  \n",
        "  # Delete the last feature and the last label\n",
        "  features = np.delete(features, len(features)-1, 0)\n",
        "\n",
        "  # Print control table\n",
        "  #print(\"KMeans applied on numbers: \\n\")\n",
        "  #clusters, count = cluster_label_count(k_mean.labels_, labels_features.astype(int))\n",
        "  #print(clusters)\n",
        "  #print(\"\\n\")\n",
        "\n",
        "  #elimino label che abbiamo concatenato\n",
        "  labels_features = np.delete(labels_features, len(labels_features)-1, 0)\n",
        "\n",
        "  return pseudo_label, err"
      ]
    },
    {
      "cell_type": "markdown",
      "metadata": {
        "id": "zNrxFnGeWeYY"
      },
      "source": [
        "# FUNCTIONS"
      ]
    },
    {
      "cell_type": "code",
      "execution_count": 17,
      "metadata": {
        "id": "E0DELLNfTtgF"
      },
      "outputs": [],
      "source": [
        "def softmax(array):\n",
        "    \n",
        "    if(len(array.shape)==2):\n",
        "        array = array[0]\n",
        "        \n",
        "    size    = len(array)\n",
        "    ret_ary = np.zeros([len(array)])\n",
        "    m       = array[0]\n",
        "    sum_val = 0\n",
        "\n",
        "    for i in range(0, size):\n",
        "        if(m<array[i]):\n",
        "            m = array[i]\n",
        "\n",
        "    for i in range(0, size):\n",
        "        sum_val += np.exp(array[i] - m)\n",
        "\n",
        "    constant = m + np.log(sum_val)\n",
        "    for i in range(0, size):\n",
        "        ret_ary[i] = np.exp(array[i] - constant)\n",
        "        \n",
        "    return ret_ary"
      ]
    },
    {
      "cell_type": "code",
      "execution_count": 18,
      "metadata": {
        "id": "gCEnUmGuWeYY"
      },
      "outputs": [],
      "source": [
        "class Custom_Layer(object):\n",
        "    def __init__(self, model):\n",
        "\n",
        "        # Related to the layer\n",
        "        self.ML_frozen = keras.models.Sequential(model.layers[:-1])  # extract the last layer from the original model\n",
        "        self.ML_frozen.compile()\n",
        "        \n",
        "        self.W = np.array(model.layers[-1].get_weights()[0])    # extract the weights from the last layer\n",
        "        self.b = np.array(model.layers[-1].get_weights()[1])    # extract the biases from the last layer\n",
        "               \n",
        "        self.W_2 = np.zeros(self.W.shape)\n",
        "        self.b_2 = np.zeros(self.b.shape)\n",
        "        \n",
        "        self.label     = [0,1,2,3,4,5]              \n",
        "        self.std_label = [0,1,2,3,4,5,6,7,8,9]\n",
        "        \n",
        "        self.l_rate = 0                                         # learning rate that changes depending on the algorithm        \n",
        "\n",
        "        self.batch_size = 0\n",
        "        \n",
        "        # Related to the results fo the model\n",
        "        self.conf_matr = np.zeros((10,10))    # container for the confusion matrix       \n",
        "        self.macro_avrg_precision = 0       \n",
        "        self.macro_avrg_recall = 0\n",
        "        self.macro_avrg_F1score = 0\n",
        "        \n",
        "        self.title = ''       # title that will be displayed on plots\n",
        "        self.filename = ''    # name of the files to be saved (plots, charts, conf matrix)\n",
        "        \n",
        "        \n",
        "    # Function that is used for the prediction of the model saved in this class\n",
        "    def predict(self, x):\n",
        "        mat_prod = np.array(np.matmul(x, self.W) + self.b)\n",
        "        return softmax(mat_prod) # othwerwise do it with keras|also remove np.array()| tf.nn.softmax(mat_prod) "
      ]
    },
    {
      "cell_type": "code",
      "execution_count": 19,
      "metadata": {
        "id": "6p72fbaTWeYZ"
      },
      "outputs": [],
      "source": [
        "def digitToSoftmax(current_label, known_labels):\n",
        "    ret_ary = np.zeros(len(known_labels))\n",
        "\n",
        "    known_labels_2 = [0,1,2,3,4,5]\n",
        "                       \n",
        "    for i in range(0, len(known_labels)):\n",
        "        if(current_label == known_labels_2[i]):\n",
        "            ret_ary[i] = 1\n",
        "\n",
        "    return ret_ary  \n"
      ]
    },
    {
      "cell_type": "code",
      "execution_count": 20,
      "metadata": {
        "id": "P1V6LeFTVmv9"
      },
      "outputs": [],
      "source": [
        "def NumberToSoftmax(current_label, known_labels):\n",
        "    ret_ary = np.zeros(len(known_labels))\n",
        "                       \n",
        "    for i in range(0, len(known_labels)):\n",
        "        if(current_label == known_labels[i]):\n",
        "            ret_ary[i] = 1\n",
        "\n",
        "    return ret_ary"
      ]
    },
    {
      "cell_type": "code",
      "execution_count": 21,
      "metadata": {
        "id": "qLtQr29AVn_Y"
      },
      "outputs": [],
      "source": [
        "def CheckLabelKnown(model, current_label):\n",
        "    \n",
        "    found = 0\n",
        "    \n",
        "    for i in range(0, len(model.label)):\n",
        "        if(current_label == model.label[i]):\n",
        "            found = 1\n",
        "        \n",
        "        \n",
        "    # If the label is not known\n",
        "    if(found==0):\n",
        "        print(f'\\n\\n    New digit detected -> digit \\033[1m{current_label}\\033[0m \\n')\n",
        "\n",
        "        model.label.append(current_label)   # Add new digit to label\n",
        "                \n",
        "        # Increase weights and biases dimensions\n",
        "        model.W = np.hstack((model.W, np.zeros([model.W.shape[0],1])))\n",
        "        model.b = np.hstack((model.b, np.zeros([1])))\n",
        "        \n",
        "        model.W_2 = np.hstack((model.W_2, np.zeros([model.W.shape[0],1])))\n",
        "        model.b_2 = np.hstack((model.b_2, np.zeros([1])))"
      ]
    },
    {
      "cell_type": "code",
      "execution_count": 22,
      "metadata": {
        "id": "qXndowOwWeYZ"
      },
      "outputs": [],
      "source": [
        "def trainOneEpoch_OL(model, x_train, x_test, y_train, y_test, features, labels_features, batch_size):\n",
        "       \n",
        "    cntr = 1\n",
        "    learn_rate = model.l_rate\n",
        "    \n",
        "    train_samples = x_train.shape[0]\n",
        "    test_samples = x_test.shape[0]\n",
        "    tot_samples = train_samples+test_samples\n",
        "    \n",
        "    x_tot = np.concatenate((x_train, x_test))\n",
        "    y_tot = np.concatenate((y_train, y_test))\n",
        "    \n",
        "    n_cluster = 10\n",
        "    err_tot = 0\n",
        "    cntr_clus = 0\n",
        "    reminder = tot_samples%batch_size\n",
        "    max_iter = int(tot_samples//batch_size)\n",
        "\n",
        "    features_images = np.zeros(tot_samples)\n",
        "        \n",
        "    # FEATURE EXTRACTION\n",
        "\n",
        "    print('**********************************\\n Performing features extraction \\n')\n",
        "\n",
        "    for i in range(0, tot_samples):\n",
        "        y_ML   = model.ML_frozen.predict(x_tot[i].reshape((1,28,28,1)), verbose=False)\n",
        "\n",
        "        if i == 0:\n",
        "          features_images = np.copy(y_ML)       \n",
        "        else:\n",
        "          features_images = np.concatenate((features_images, y_ML))\n",
        "\n",
        "    # CLUSTERING\n",
        "\n",
        "    print('**********************************\\n Performing clustering\\n')\n",
        "\n",
        "    # Pseudo-labels\n",
        "    for i in range(0, max_iter):\n",
        "      \n",
        "        pseudo_label, err = k_mean_clustering(features_images[i*batch_size:i*batch_size+batch_size], features, y_tot[i*batch_size:i*batch_size+batch_size], labels_features, n_cluster, batch_size)\n",
        "        err_tot += err\n",
        "        pseudo_label = pseudo_label.astype(int)\n",
        "\n",
        "        if i == 0:\n",
        "          pseudo_labels = np.copy(pseudo_label)      \n",
        "        else:\n",
        "          pseudo_labels = np.append(pseudo_labels, pseudo_label)\n",
        "\n",
        "        print(f\"\\r    Currently at {np.round(np.round(cntr_clus/tot_samples*batch_size,4)*100,2)}% of dataset\", end=\"\")\n",
        "        print(\"\\n\")\n",
        "        cntr_clus +=1\n",
        "    \n",
        "    # Pseudo-labels for last batch\n",
        "    \n",
        "    if reminder != 0: \n",
        "        pseudo_label, err = k_mean_clustering(features_images[max_iter*batch_size:tot_samples], features, y_tot[max_iter*batch_size:tot_samples], labels_features, n_cluster, reminder)\n",
        "        err_tot = err_tot + err\n",
        "        pseudo_labels = np.append(pseudo_labels, pseudo_label)\n",
        "\n",
        "    # Check pseudo-labels and errors in clustering\n",
        "    \n",
        "    #print(\"Pseudo_labels vector: \")\n",
        "    #print(pseudo_labels)\n",
        "    #print(\"\\n\")\n",
        "\n",
        "    print(\"The error in clustering is: \")\n",
        "    print(int(err_tot/tot_samples*100))\n",
        "    print(\"%\")\n",
        "    print(\"\\n\")\n",
        "\n",
        "    # ONLINE-LEARNING\n",
        "\n",
        "    print('**********************************\\n Performing training with OL\\n')\n",
        "\n",
        "    for i in range(0, tot_samples):\n",
        "\n",
        "        CheckLabelKnown(model, pseudo_labels[i])\n",
        "    \n",
        "        y_true_soft = NumberToSoftmax(pseudo_labels[i], model.label)\n",
        "               \n",
        "        # Prediction\n",
        "        \n",
        "        y_pred = model.predict(features_images[i,:])\n",
        "        \n",
        "        # Backpropagation\n",
        "        cost = y_pred-y_true_soft\n",
        "        \n",
        "        for j in range(0,model.W.shape[0]):\n",
        "\n",
        "            # Update weights\n",
        "            dW = np.multiply(cost, features_images[i,j]*learn_rate)\n",
        "            model.W[j,:] = model.W[j,:]-dW\n",
        "\n",
        "        # Update biases\n",
        "        db      = np.multiply(cost, learn_rate)\n",
        "        model.b = model.b-db\n",
        "        \n",
        "        # the next part is only to plot the confusion matrix\n",
        "        # if the train data is finished still train the model but do not save the results\n",
        "        if(i>=train_samples):\n",
        "\n",
        "            y_true_soft = NumberToSoftmax(y_tot[i], model.label)\n",
        "                   \n",
        "            # Find the max iter for both true label and prediction\n",
        "            if(np.amax(y_true_soft) != 0):\n",
        "                max_i_true = np.argmax(y_true_soft)\n",
        "\n",
        "            if(np.amax(y_pred) != 0):\n",
        "                max_i_pred = np.argmax(y_pred)\n",
        "\n",
        "            # Fill up the confusion matrix\n",
        "            for k in range(0,len(model.label)):\n",
        "                if(model.label[max_i_pred] == model.std_label[k]):\n",
        "                    p = np.copy(k)\n",
        "                if(model.label[max_i_true] == model.std_label[k]):\n",
        "                    t = np.copy(k)\n",
        "\n",
        "            model.conf_matr[t,p] += 1  \n",
        "\n",
        "        #print(f\"\\r    Currently at {np.round(np.round(cntr/tot_samples,4)*100,2)}% of dataset\", end=\"\")\n",
        "        #print(\"\\n\")\n",
        "        #cntr +=1"
      ]
    },
    {
      "cell_type": "markdown",
      "metadata": {
        "id": "rjrOJ9rSWeYc"
      },
      "source": [
        "# TRAIN THE MODEL ON THE DIGITS 6-9 (OL METHOD)"
      ]
    },
    {
      "cell_type": "code",
      "execution_count": 23,
      "metadata": {
        "id": "gUbEkVo2BaOp"
      },
      "outputs": [],
      "source": [
        "n_samples = 500\n",
        "digits_train = np.zeros((n_samples,28,28))\n",
        "digits_test = np.zeros((n_samples,28,28))\n",
        "label_digits_train = np.zeros(n_samples)\n",
        "label_digits_test = np.zeros(n_samples)\n",
        "\n",
        "for i in range(0, n_samples):\n",
        "  n = random.randint(0,len(data_train)-1)\n",
        "  digits_train[i,:,:] = data_train[n,:,:]\n",
        "  label_digits_train[i] = label_train[n]\n",
        "  m = random.randint(0,len(data_test)-1)\n",
        "  digits_test[i,:,:] = np.copy(data_test[m,:,:])\n",
        "  label_digits_test[i] = label_test[m]\n",
        "\n",
        "\n",
        "if K.image_data_format() == 'channels_first':\n",
        "    digits_train  = digits_train.reshape(digits_train.shape[0], 1, img_rows, img_cols)\n",
        "    digits_test = digits_test.reshape(digits_test.shape[0], 1, img_rows, img_cols)\n",
        "    input_shape = (1, img_rows, img_cols)\n",
        "else:\n",
        "    digits_train  = digits_train.reshape(digits_train.shape[0], img_rows, img_cols, 1)\n",
        "    digits_test = digits_test.reshape(digits_test.shape[0], img_rows, img_cols, 1)\n",
        "    input_shape = (img_rows, img_cols, 1)\n",
        "\n",
        "digits_train  = digits_train.astype(np.float32) / 255.0\n",
        "digits_test = digits_test.astype(np.float32) / 255.0"
      ]
    },
    {
      "cell_type": "code",
      "execution_count": 24,
      "metadata": {
        "colab": {
          "base_uri": "https://localhost:8080/"
        },
        "id": "zlv1oGmcWeYd",
        "outputId": "e1d52b63-7ad7-4482-c53a-04d30a8441ec"
      },
      "outputs": [
        {
          "name": "stdout",
          "output_type": "stream",
          "text": [
            "The dataset on which the model will be TRAINED has shape (500, 28, 28, 1)\n",
            "The dataset on which the model will be TESTED has shape  (500, 28, 28, 1)\n"
          ]
        }
      ],
      "source": [
        "print(f'The dataset on which the model will be TRAINED has shape {digits_train.shape}') # da cambiare con il nuovo set\n",
        "print(f'The dataset on which the model will be TESTED has shape  {digits_test.shape}') # da cambiare con il nuovo set"
      ]
    },
    {
      "cell_type": "code",
      "execution_count": 26,
      "metadata": {
        "colab": {
          "base_uri": "https://localhost:8080/",
          "height": 1000
        },
        "id": "Iu-Jd60vWeYd",
        "outputId": "11d27f3a-6b48-4ca1-ce0e-b1eec83d8d36",
        "scrolled": false
      },
      "outputs": [
        {
          "name": "stdout",
          "output_type": "stream",
          "text": [
            "**********************************\n",
            " Performing features extraction \n",
            "\n",
            "**********************************\n",
            " Performing clustering\n",
            "\n",
            "    Currently at 0.0% of dataset\n",
            "\n",
            "    Currently at 10.0% of dataset\n",
            "\n",
            "    Currently at 20.0% of dataset\n",
            "\n",
            "    Currently at 30.0% of dataset\n",
            "\n",
            "    Currently at 40.0% of dataset\n",
            "\n",
            "    Currently at 50.0% of dataset\n",
            "\n",
            "    Currently at 60.0% of dataset\n",
            "\n",
            "    Currently at 70.0% of dataset\n",
            "\n",
            "    Currently at 80.0% of dataset\n",
            "\n",
            "    Currently at 90.0% of dataset\n",
            "\n",
            "The error in clustering is: \n",
            "13\n",
            "%\n",
            "\n",
            "\n",
            "**********************************\n",
            " Performing training with OL\n",
            "\n",
            "\n",
            "\n",
            "    New digit detected -> digit \u001b[1m8\u001b[0m \n",
            "\n",
            "\n",
            "\n",
            "    New digit detected -> digit \u001b[1m9\u001b[0m \n",
            "\n",
            "\n",
            "\n",
            "    New digit detected -> digit \u001b[1m7\u001b[0m \n",
            "\n",
            "\n",
            "\n",
            "    New digit detected -> digit \u001b[1m6\u001b[0m \n",
            "\n"
          ]
        },
        {
          "data": {
            "image/png": "[encoded data removed]",
            "text/plain": [
              "<Figure size 1200x800 with 1 Axes>"
            ]
          },
          "metadata": {},
          "output_type": "display_data"
        },
        {
          "data": {
            "image/png": "[encoded data removed]",
            "text/plain": [
              "<Figure size 600x600 with 2 Axes>"
            ]
          },
          "metadata": {},
          "output_type": "display_data"
        },
        {
          "data": {
            "image/png": "[encoded data removed]",
            "text/plain": [
              "<Figure size 1000x300 with 1 Axes>"
            ]
          },
          "metadata": {},
          "output_type": "display_data"
        }
      ],
      "source": [
        "n_feat = 10 # Select number of features\n",
        "batch_size = 100 # Clustering batch size\n",
        "\n",
        "MODEL_PATH = 'Models/{}/'.format(n_feat)\n",
        "features = np.loadtxt(MODEL_PATH + 'll_features.txt')\n",
        "labels_features = np.loadtxt(MODEL_PATH + 'll_labels_features.txt').astype(int)\n",
        "model = keras.models.load_model(MODEL_PATH + 'original_mnist_cnn.h5') # Original model \n",
        "\n",
        "Model_OL = Custom_Layer(model)\n",
        "Model_OL.title      = 'OL'\n",
        "Model_OL.filename   = 'OL'\n",
        "Model_OL.l_rate     = 0.01\n",
        "Model_OL.batch_size = 8\n",
        "\n",
        "trainOneEpoch_OL(Model_OL, digits_train, digits_test,  label_digits_train,  label_digits_test, features, labels_features, batch_size)\n",
        "#trainOneEpoch_OL(Model_OL, np.concatenate((data_low_train[:25], data_high_train[:25])), np.concatenate((data_low_test[:25], data_high_test[:25])),  np.concatenate((label_low_train[:25], label_high_train[:25])),  np.concatenate((label_low_test[:25], label_high_test[:25])), features, labels_features, batch_size)\n",
        "\n",
        "#print(\"The error for this batch are : \")\n",
        "#print(int(err_tot/tot_samples*100))\n",
        "#print(\"%\")\n",
        "#print(\"\\n\")\n",
        "\n",
        "plot_barChart(Model_OL)\n",
        "plot_confMatrix(Model_OL)\n",
        "plot_table(Model_OL)"
      ]
    }
  ],
  "metadata": {
    "accelerator": "GPU",
    "colab": {
      "collapsed_sections": [],
      "provenance": []
    },
    "gpuClass": "standard",
    "kernelspec": {
      "display_name": "Python 3.10.7 ('venv': venv)",
      "language": "python",
      "name": "python3"
    },
    "language_info": {
      "codemirror_mode": {
        "name": "ipython",
        "version": 3
      },
      "file_extension": ".py",
      "mimetype": "text/x-python",
      "name": "python",
      "nbconvert_exporter": "python",
      "pygments_lexer": "ipython3",
      "version": "3.10.7"
    },
    "vscode": {
      "interpreter": {
        "hash": "f7fd1b55a667aa91d3f88049cb2b0330e965cb77ee086e9d0bbb787b7ff82ca0"
      }
    }
  },
  "nbformat": 4,
  "nbformat_minor": 0
}
