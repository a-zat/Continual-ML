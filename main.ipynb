{
 "cells": [
  {
   "cell_type": "markdown",
   "metadata": {},
   "source": [
    "Import libraries and MNIST dataset"
   ]
  },
  {
   "cell_type": "code",
   "execution_count": 154,
   "metadata": {},
   "outputs": [
    {
     "name": "stdout",
     "output_type": "stream",
     "text": [
      "The original dataset shapes from MNIST are\n",
      "    Train dataset shape: (60000, 28, 28)\n",
      "    Test dataset shape:  (10000, 28, 28)\n"
     ]
    }
   ],
   "source": [
    "# Includes\n",
    "import tensorflow as tf\n",
    "from tensorflow import keras\n",
    "from tensorflow.keras.datasets import mnist\n",
    "\n",
    "from sklearn.cluster import KMeans\n",
    "import numpy as np\n",
    "import matplotlib.pyplot as plt\n",
    "\n",
    "# Load dataset\n",
    "(data_train, label_train),(data_test, label_test) = mnist.load_data() # Load data\n",
    "print('The original dataset shapes from MNIST are')\n",
    "print(f'    Train dataset shape: {data_train.shape}')\n",
    "print(f'    Test dataset shape:  {data_test.shape}')"
   ]
  },
  {
   "cell_type": "markdown",
   "metadata": {},
   "source": [
    "Regroup data in low digits (0...5) and high (6..9)"
   ]
  },
  {
   "cell_type": "code",
   "execution_count": 155,
   "metadata": {},
   "outputs": [
    {
     "name": "stdout",
     "output_type": "stream",
     "text": [
      "After the separation of the dataset in groups higer and lower/equal than 6 the datasets are:\n",
      "     Train dataset lower than 6 has shape:  (36017, 28, 28, 1)\n",
      "     Train dataset higher than 6 has shape: (23983, 28, 28, 1)\n",
      "\n",
      "     Test dataset lower than 6 has shape:  (6031, 28, 28, 1)\n",
      "     Test dataset higher than 6 has shape: (3969, 28, 28, 1)\n"
     ]
    }
   ],
   "source": [
    "train_samples = label_train.shape[0]\n",
    "test_samples  = label_test.shape[0]\n",
    "img_rows, img_cols = 28, 28\n",
    "\n",
    "trainLow_samples = np.sum(np.where(label_train < 6, 1, 0))\n",
    "testLow_samples  = np.sum(np.where(label_test  < 6, 1, 0))\n",
    "\n",
    "# separate in containers data that is lower and higer than 6\n",
    "# TRAIN - LOW\n",
    "data_low_train   = np.zeros([trainLow_samples,28,28])\n",
    "label_low_train  = np.zeros(trainLow_samples)\n",
    "#       - HIGH\n",
    "data_high_train  = np.zeros([train_samples-trainLow_samples,28,28])\n",
    "label_high_train = np.zeros(train_samples-trainLow_samples)\n",
    "\n",
    "# TEST - LOW\n",
    "data_low_test   = np.zeros([testLow_samples,28,28])\n",
    "label_low_test  = np.zeros(testLow_samples)\n",
    "\n",
    "#      - HIGH\n",
    "data_high_test  = np.zeros([test_samples-testLow_samples,28,28])\n",
    "label_high_test = np.zeros(test_samples-testLow_samples)\n",
    "\n",
    "j,k = 0,0\n",
    "for i in range(0,train_samples):  \n",
    "    if(label_train[i]<6):\n",
    "        data_low_train[j,:,:] = data_train[i,:,:]\n",
    "        label_low_train[j]    = label_train[i]\n",
    "        j+=1\n",
    "    else:\n",
    "        data_high_train[k,:,:] = data_train[i,:,:]\n",
    "        label_high_train[k]    = label_train[i]\n",
    "        k+=1\n",
    "\n",
    "\n",
    "j,k = 0,0\n",
    "for i in range(0,test_samples):\n",
    "    if(label_test[i]>5):\n",
    "        data_high_test[k,:,:] = data_test[i,:,:]\n",
    "        label_high_test[k]    = label_test[i]\n",
    "        k+=1  \n",
    "    else:\n",
    "        data_low_test[j,:,:] = data_test[i,:,:]\n",
    "        label_low_test[j]    = label_test[i]\n",
    "        j+=1\n",
    "\n",
    "# Reshape\n",
    "data_low_train  = data_low_train.reshape(data_low_train.shape[0], img_rows, img_cols, 1)\n",
    "data_high_train = data_high_train.reshape(data_high_train.shape[0], img_rows, img_cols, 1)\n",
    "data_low_test   = data_low_test.reshape(data_low_test.shape[0], img_rows, img_cols, 1)\n",
    "data_high_test  = data_high_test.reshape(data_high_test.shape[0], img_rows, img_cols, 1)\n",
    "input_shape = (img_rows, img_cols, 1)\n",
    "\n",
    "# Print\n",
    "print('After the separation of the dataset in groups higer and lower/equal than 6 the datasets are:')\n",
    "print(f'     Train dataset lower than 6 has shape:  {data_low_train.shape}')\n",
    "print(f'     Train dataset higher than 6 has shape: {data_high_train.shape}')\n",
    "print()\n",
    "print(f'     Test dataset lower than 6 has shape:  {data_low_test.shape}')\n",
    "print(f'     Test dataset higher than 6 has shape: {data_high_test.shape}')\n",
    "\n",
    "# Normalize the colors from 0-255 to 0-1\n",
    "data_low_train  = data_low_train.astype(np.float32) / 255.0\n",
    "data_high_train = data_high_train.astype(np.float32) / 255.0\n",
    "data_low_test   = data_low_test.astype(np.float32) / 255.0\n",
    "data_high_test  = data_high_test.astype(np.float32) / 255.0"
   ]
  },
  {
   "cell_type": "markdown",
   "metadata": {},
   "source": [
    "Load Frozen model (Features model) and features for the pre-trained data"
   ]
  },
  {
   "cell_type": "code",
   "execution_count": 179,
   "metadata": {},
   "outputs": [],
   "source": [
    "features = np.loadtxt('Models/Original_model/ll_features_10.txt')\n",
    "labels_features = np.loadtxt('Models/Original_model/ll_labels_features_10.txt')\n",
    "labels_features = labels_features.astype(int)\n",
    "model = keras.models.load_model('Models/Original_model/mnist_cnn.h5')\n",
    "\n",
    "# Print\n",
    "# model.summary()\n",
    "# Features_model.summary()\n",
    "\n",
    "Features_model = keras.models.Sequential(model.layers[:-1])  # extract the last layer from the original model\n",
    "Features_model.compile()"
   ]
  },
  {
   "cell_type": "markdown",
   "metadata": {},
   "source": [
    "# Kmeans "
   ]
  },
  {
   "cell_type": "markdown",
   "metadata": {},
   "source": [
    "## Fit initial dataset - Sklearn Kmeans"
   ]
  },
  {
   "cell_type": "code",
   "execution_count": 353,
   "metadata": {},
   "outputs": [
    {
     "name": "stdout",
     "output_type": "stream",
     "text": [
      "(40, 512)\n",
      "(100, 512)\n"
     ]
    },
    {
     "data": {
      "text/html": [
       "<style>#sk-container-id-16 {color: black;background-color: white;}#sk-container-id-16 pre{padding: 0;}#sk-container-id-16 div.sk-toggleable {background-color: white;}#sk-container-id-16 label.sk-toggleable__label {cursor: pointer;display: block;width: 100%;margin-bottom: 0;padding: 0.3em;box-sizing: border-box;text-align: center;}#sk-container-id-16 label.sk-toggleable__label-arrow:before {content: \"▸\";float: left;margin-right: 0.25em;color: #696969;}#sk-container-id-16 label.sk-toggleable__label-arrow:hover:before {color: black;}#sk-container-id-16 div.sk-estimator:hover label.sk-toggleable__label-arrow:before {color: black;}#sk-container-id-16 div.sk-toggleable__content {max-height: 0;max-width: 0;overflow: hidden;text-align: left;background-color: #f0f8ff;}#sk-container-id-16 div.sk-toggleable__content pre {margin: 0.2em;color: black;border-radius: 0.25em;background-color: #f0f8ff;}#sk-container-id-16 input.sk-toggleable__control:checked~div.sk-toggleable__content {max-height: 200px;max-width: 100%;overflow: auto;}#sk-container-id-16 input.sk-toggleable__control:checked~label.sk-toggleable__label-arrow:before {content: \"▾\";}#sk-container-id-16 div.sk-estimator input.sk-toggleable__control:checked~label.sk-toggleable__label {background-color: #d4ebff;}#sk-container-id-16 div.sk-label input.sk-toggleable__control:checked~label.sk-toggleable__label {background-color: #d4ebff;}#sk-container-id-16 input.sk-hidden--visually {border: 0;clip: rect(1px 1px 1px 1px);clip: rect(1px, 1px, 1px, 1px);height: 1px;margin: -1px;overflow: hidden;padding: 0;position: absolute;width: 1px;}#sk-container-id-16 div.sk-estimator {font-family: monospace;background-color: #f0f8ff;border: 1px dotted black;border-radius: 0.25em;box-sizing: border-box;margin-bottom: 0.5em;}#sk-container-id-16 div.sk-estimator:hover {background-color: #d4ebff;}#sk-container-id-16 div.sk-parallel-item::after {content: \"\";width: 100%;border-bottom: 1px solid gray;flex-grow: 1;}#sk-container-id-16 div.sk-label:hover label.sk-toggleable__label {background-color: #d4ebff;}#sk-container-id-16 div.sk-serial::before {content: \"\";position: absolute;border-left: 1px solid gray;box-sizing: border-box;top: 0;bottom: 0;left: 50%;z-index: 0;}#sk-container-id-16 div.sk-serial {display: flex;flex-direction: column;align-items: center;background-color: white;padding-right: 0.2em;padding-left: 0.2em;position: relative;}#sk-container-id-16 div.sk-item {position: relative;z-index: 1;}#sk-container-id-16 div.sk-parallel {display: flex;align-items: stretch;justify-content: center;background-color: white;position: relative;}#sk-container-id-16 div.sk-item::before, #sk-container-id-16 div.sk-parallel-item::before {content: \"\";position: absolute;border-left: 1px solid gray;box-sizing: border-box;top: 0;bottom: 0;left: 50%;z-index: -1;}#sk-container-id-16 div.sk-parallel-item {display: flex;flex-direction: column;z-index: 1;position: relative;background-color: white;}#sk-container-id-16 div.sk-parallel-item:first-child::after {align-self: flex-end;width: 50%;}#sk-container-id-16 div.sk-parallel-item:last-child::after {align-self: flex-start;width: 50%;}#sk-container-id-16 div.sk-parallel-item:only-child::after {width: 0;}#sk-container-id-16 div.sk-dashed-wrapped {border: 1px dashed gray;margin: 0 0.4em 0.5em 0.4em;box-sizing: border-box;padding-bottom: 0.4em;background-color: white;}#sk-container-id-16 div.sk-label label {font-family: monospace;font-weight: bold;display: inline-block;line-height: 1.2em;}#sk-container-id-16 div.sk-label-container {text-align: center;}#sk-container-id-16 div.sk-container {/* jupyter's `normalize.less` sets `[hidden] { display: none; }` but bootstrap.min.css set `[hidden] { display: none !important; }` so we also need the `!important` here to be able to override the default hidden behavior on the sphinx rendered scikit-learn.org. See: https://github.com/scikit-learn/scikit-learn/issues/21755 */display: inline-block !important;position: relative;}#sk-container-id-16 div.sk-text-repr-fallback {display: none;}</style><div id=\"sk-container-id-16\" class=\"sk-top-container\"><div class=\"sk-text-repr-fallback\"><pre>KMeans(n_clusters=4)</pre><b>In a Jupyter environment, please rerun this cell to show the HTML representation or trust the notebook. <br />On GitHub, the HTML representation is unable to render, please try loading this page with nbviewer.org.</b></div><div class=\"sk-container\" hidden><div class=\"sk-item\"><div class=\"sk-estimator sk-toggleable\"><input class=\"sk-toggleable__control sk-hidden--visually\" id=\"sk-estimator-id-16\" type=\"checkbox\" checked><label for=\"sk-estimator-id-16\" class=\"sk-toggleable__label sk-toggleable__label-arrow\">KMeans</label><div class=\"sk-toggleable__content\"><pre>KMeans(n_clusters=4)</pre></div></div></div></div></div>"
      ],
      "text/plain": [
       "KMeans(n_clusters=4)"
      ]
     },
     "execution_count": 353,
     "metadata": {},
     "output_type": "execute_result"
    }
   ],
   "source": [
    "# Fit initial dataset. First we need to extract the corresponding images from the features list\n",
    "\n",
    "# Define initial set of features\n",
    "labels_init_list = list([1, 9, 5, 0])\n",
    "# labels_init_list = list([1, 2, 3, 4, 5, 6, 7, 8, 9, 0])\n",
    "\n",
    "# Initialize features and labels arrays for \n",
    "labels_init = []\n",
    "features_init = []\n",
    "\n",
    "for i in range(0, len(features)):\n",
    "      if labels_features[i] in labels_init_list:\n",
    "        features_init.append(features[i,:])\n",
    "        labels_init.append(labels_features[i])\n",
    "\n",
    "# debug\n",
    "print(np.shape(features_init))\n",
    "print(np.shape(features))\n",
    "\n",
    "# Fit initial dataset using n clusters\n",
    "n_clust_init = len(labels_init_list)\n",
    "\n",
    "Kmeans = KMeans(n_clusters = n_clust_init)\n",
    "Kmeans.fit(features_init)\n",
    "\n",
    "# Kmean.cluster_centers_ -> Centroidi\n",
    "# Kmeans.cluster_centers_.shape\n",
    "# print(\"True labels\",labels_init)\n",
    "# print(\"Pseudo labels\", Kmeans.labels_)"
   ]
  },
  {
   "cell_type": "markdown",
   "metadata": {},
   "source": [
    "### Confusion Matrix"
   ]
  },
  {
   "cell_type": "code",
   "execution_count": 433,
   "metadata": {},
   "outputs": [
    {
     "name": "stdout",
     "output_type": "stream",
     "text": [
      "[[ 0 10  0  0]\n",
      " [ 0  0  9  1]\n",
      " [ 0  0  1  9]\n",
      " [10  0  0  0]]\n"
     ]
    },
    {
     "data": {
      "text/plain": [
       "{1: 1, 9: 2, 5: 3, 0: 0}"
      ]
     },
     "execution_count": 433,
     "metadata": {},
     "output_type": "execute_result"
    }
   ],
   "source": [
    "# 1: map labels to rows\n",
    "# [1, 9, 5, 0]\n",
    "\n",
    "fake_labels_init = np.empty(np.shape(labels_init))\n",
    "\n",
    "for i in range(0,len(labels_init)):\n",
    "    fake_labels_init[i] = labels_init_list.index(labels_init[i])\n",
    "\n",
    "# print(fake_labels_init)\n",
    "\n",
    "# Confusion matrix\n",
    "from sklearn.metrics import confusion_matrix, ConfusionMatrixDisplay\n",
    "\n",
    "cmtx = confusion_matrix(fake_labels_init, Kmeans.labels_)\n",
    "print(cmtx)\n",
    "\n",
    "# Map true-labels to clusters\n",
    "map_idx = np.argmax(cmtx, axis = 1)  \n",
    "\n",
    "#confusion_matrix.shape\n",
    "\n",
    "# Fill dictionary with map\n",
    "map_dict = {}\n",
    "for i in range(0, len(map_idx)):\n",
    "    map_dict[labels_init_list[i]] = map_idx[i]\n",
    "\n",
    "map_dict"
   ]
  },
  {
   "cell_type": "markdown",
   "metadata": {},
   "source": [
    "## Calcolo features dei nuovi dati\n",
    "Uso il Features_model\n",
    "e (data_train, label_train),(data_test, label_test)"
   ]
  },
  {
   "cell_type": "code",
   "execution_count": 440,
   "metadata": {},
   "outputs": [
    {
     "name": "stdout",
     "output_type": "stream",
     "text": [
      "1/1 [==============================] - 0s 23ms/step\n",
      "Distances from clusters [[7374.89191804 7374.42651434 7368.70112832 7373.05509326]]\n",
      "Predicted cluster for image is:  [2]\n"
     ]
    },
    {
     "data": {
      "image/png": "[encoded data removed]",
      "text/plain": [
       "<Figure size 640x480 with 1 Axes>"
      ]
     },
     "metadata": {},
     "output_type": "display_data"
    }
   ],
   "source": [
    "# Assegno i centroidi iniziali\n",
    "centroids = {}\n",
    "for i in range(n_clust_init):\n",
    "    centroids[i] = Kmeans.cluster_centers_[i]\n",
    "\n",
    "\n",
    "\n",
    "\n",
    "# Array that simulates the data stream from the OPENMV\n",
    "data_stream = data_train\n",
    "\n",
    "\n",
    "# Processing one image at a time\n",
    "\n",
    "idx = 4 # Simulate image capture\n",
    "\n",
    "BATCH_SIZE = 1 # Lo script da qui funzionerebbe anche con batch \n",
    "\n",
    "img = data_stream[idx].reshape(BATCH_SIZE, 28, 28, 1)    \n",
    "img_features = Features_model.predict(img)              \n",
    "\n",
    "# Calcolo distanza rispetto a tutti i cluster\n",
    "# Volendo posso passare anche un batch\n",
    "dist = Kmeans.transform(img_features)                   \n",
    "\n",
    "print(\"Distances from clusters\", dist)\n",
    "\n",
    "# La pseudo label predetta minimizza la distanza\n",
    "img_idx = np.argmin(dist, axis = 1)\n",
    "\n",
    "\n",
    "print(\"Predicted cluster for image is: \", img_idx)\n",
    "\n",
    "# plot the input\n",
    "fig = plt.figure\n",
    "img_plt = img.reshape(28, 28)\n",
    "plt.imshow(img_plt, cmap='gray')\n",
    "plt.show()\n"
   ]
  },
  {
   "cell_type": "markdown",
   "metadata": {},
   "source": [
    "# TO DO LIST\n",
    "Aggiorno i centroidi con i nuovi dati\n",
    "\n",
    "1) prelevo la nuova immagine OK\n",
    "2) Ne calcolo le features usando il frozen model\n",
    "3) Capire a quale cluster l'immagine appartiene -> Predict\n",
    "4) In base allo score:\n",
    "\n",
    "      - Aggiorno il centroide con il nuovo dato -> settare il learning rate \n",
    "      - Creo un nuovo cluster con l'immagine nuova.\n",
    "\n",
    "      OSS: vedere lo score se calcolarlo con dist o con score è meglio per settare la soglia, o usare altre metriche anche,, o l'inerzia (se riesco ad estrarmela dallaa classe)\n",
    "\n",
    "\n",
    "**Da qui in poi bisogna capire come creare i nuovi cluster ed aggiungerli al Kmeans object**:\n",
    "- o si esce dal SKlearn e si implementa \"a mano da qui in poi il clustering sfruttando lo script sotto\n",
    "- oppure si può magari fare un batch di tutti gli *outliers* e clusterizzarli assieme e vedere che succede..."
   ]
  },
  {
   "cell_type": "markdown",
   "metadata": {},
   "source": [
    "## Codice funzionante fino a qui"
   ]
  },
  {
   "cell_type": "code",
   "execution_count": 170,
   "metadata": {},
   "outputs": [],
   "source": [
    "\n",
    "# Variables\n",
    "max_iter = 300\n",
    "tol = 0.01\n",
    "\n",
    "\n",
    "\n",
    "# Sposto i centroidi per ottimizzarli\n",
    "for ii in range(max_iter):\n",
    "\n",
    "    # Inizializzo i classificatori\n",
    "    classifications = {}\n",
    "    for i in range(n_clust_init):\n",
    "        classifications[i] = []\n",
    "\n",
    "    for featureset in data:\n",
    "        distances = [np.linalg.norm(featureset - centroids[centroid]) for centroid in centroids]\n",
    "        classification = distances.index(min(distances))        # retrieve index of cluster with smallest distance\n",
    "        classifications[classification].append(featureset)\n",
    "\n",
    "    prev_centroids = dict(centroids)\n",
    "\n",
    "\n",
    "    for classification in classifications:\n",
    "      centroids[classification] = np.average(classifications[classification], axis=0)\n",
    "\n",
    "    optimized = True\n",
    "\n",
    "    for c in centroids:\n",
    "        original_centroid = prev_centroids[c]\n",
    "        current_centroid = centroids[c]\n",
    "\n",
    "        #print((current_centroid - original_centroid) / original_centroid)\n",
    "\n",
    "        #if np.sum((current_centroid - original_centroid) / original_centroid * 100.0) > tol:\n",
    "        #    print(np.sum((current_centroid - original_centroid) / original_centroid * 100.0))\n",
    "    #        optimized = False\n",
    "\n",
    "    if optimized:\n",
    "        break"
   ]
  },
  {
   "cell_type": "code",
   "execution_count": 168,
   "metadata": {},
   "outputs": [
    {
     "name": "stdout",
     "output_type": "stream",
     "text": [
      "(512,)\n",
      "(2, 512)\n",
      "(26, 512)\n",
      "(11, 512)\n",
      "(1, 512)\n"
     ]
    }
   ],
   "source": [
    "# Variables\n",
    "max_iter = 300\n",
    "tol = 0.01\n",
    "\n",
    "\n",
    "data = features_init\n",
    "\n",
    "\n",
    "# Sposto i centroidi per ottimizzarli\n",
    "for ii in range(max_iter):\n",
    "\n",
    "    # Inizializzo i classificatori\n",
    "    classifications = {}\n",
    "    for i in range(n_clust_init):\n",
    "        classifications[i] = []\n",
    "\n",
    "    for featureset in data:\n",
    "        distances = [np.linalg.norm(featureset - centroids[centroid]) for centroid in centroids]\n",
    "        classification = distances.index(min(distances))        # retrieve index of cluster with smallest distance\n",
    "        classifications[classification].append(featureset)\n",
    "\n",
    "    prev_centroids = dict(centroids)\n",
    "\n",
    "\n",
    "    for classification in classifications:\n",
    "      centroids[classification] = np.average(classifications[classification], axis=0)\n",
    "\n",
    "    optimized = True\n",
    "\n",
    "    for c in centroids:\n",
    "        original_centroid = prev_centroids[c]\n",
    "        current_centroid = centroids[c]\n",
    "\n",
    "        #print((current_centroid - original_centroid) / original_centroid)\n",
    "\n",
    "        #if np.sum((current_centroid - original_centroid) / original_centroid * 100.0) > tol:\n",
    "        #    print(np.sum((current_centroid - original_centroid) / original_centroid * 100.0))\n",
    "    #        optimized = False\n",
    "\n",
    "    if optimized:\n",
    "        break\n",
    "\n",
    "\n",
    "print(centroids[0].shape)\n",
    "\n",
    "#print(centroids[0])\n",
    "\n",
    "#print(centroids[3])\n",
    "\n",
    "print(np.array(classifications[0]).shape)\n",
    "print(np.array(classifications[1]).shape)\n",
    "print(np.array(classifications[2]).shape)\n",
    "print(np.array(classifications[3]).shape)\n",
    "\n",
    "\n",
    "\n",
    "\n",
    "\n"
   ]
  },
  {
   "cell_type": "code",
   "execution_count": 61,
   "metadata": {},
   "outputs": [
    {
     "ename": "IndentationError",
     "evalue": "expected an indented block after function definition on line 14 (3852728260.py, line 18)",
     "output_type": "error",
     "traceback": [
      "\u001b[0;36m  Cell \u001b[0;32mIn [61], line 18\u001b[0;36m\u001b[0m\n\u001b[0;31m    def predict(self, data):\u001b[0m\n\u001b[0m    ^\u001b[0m\n\u001b[0;31mIndentationError\u001b[0m\u001b[0;31m:\u001b[0m expected an indented block after function definition on line 14\n"
     ]
    }
   ],
   "source": [
    "\n",
    "\n",
    "\n",
    "\n",
    "# Fit\n",
    "\n",
    "\n",
    "\n",
    "\n",
    "\n",
    "\n",
    "class K_Means:\n",
    "    def __init__(self, k=2, tol=0.001, max_iter=300):\n",
    "        self.k = k\n",
    "        self.tol = tol\n",
    "        self.max_iter = max_iter\n",
    "\n",
    "    def fit(self, data):\n",
    "\n",
    "        # Initialize centroids with first data incoming\n",
    "\n",
    "    def predict(self, data):\n",
    "        distances = [np.linalg.norm(data - self.centroids[centroid]) for centroid in self.centroids]\n",
    "        classification = distances.index(min(distances))\n",
    "        return classification\n",
    "\n",
    "    def update(self, new_data, delta):\n",
    "        for featureset in new_data:\n",
    "            distances = [np.linalg.norm(featureset - self.centroids[centroid]) for centroid in self.centroids]\n",
    "\n",
    "            if min(distances) < delta:\n",
    "                classification = distances.index(min(distances))\n",
    "                self.classifications[classification].append(featureset)\n",
    "                self.centroids[classification] = np.average(self.classifications[classification], axis=0)\n",
    "            else:\n",
    "                self.centroids[self.k] = featureset\n",
    "                self.classifications[self.k] = []\n",
    "                self.classifications[self.k].append(featureset)\n",
    "                self.k = self.k + 1\n",
    "\n",
    "\n",
    "\n",
    "\n"
   ]
  },
  {
   "cell_type": "code",
   "execution_count": 45,
   "metadata": {},
   "outputs": [
    {
     "name": "stdout",
     "output_type": "stream",
     "text": [
      "50.0\n",
      "513.8888888888889\n",
      "19.333333333333336\n",
      "85.97370695537461\n"
     ]
    },
    {
     "data": {
      "image/png": "[encoded data removed]",
      "text/plain": [
       "<Figure size 640x480 with 1 Axes>"
      ]
     },
     "metadata": {},
     "output_type": "display_data"
    }
   ],
   "source": [
    "import matplotlib.pyplot as plt\n",
    "from matplotlib import style\n",
    "\n",
    "style.use('ggplot')\n",
    "colors = 10 * [\"g\", \"r\", \"c\", \"b\", \"k\"]\n",
    "\n",
    "X = np.array([[1, 2],\n",
    "              [1.5, 1.8],\n",
    "              [5, 8],\n",
    "              [8, 8],\n",
    "              [8,10],\n",
    "              [9,8],\n",
    "              [3,2],\n",
    "              [1,4],\n",
    "              [1, 0.6],\n",
    "              [9, 11]])\n",
    "\n",
    "clf = K_Means(k = 2)\n",
    "clf.fit(X)\n",
    "\n",
    "X1 = np.array([[6, 8],\n",
    "               [7, 10],\n",
    "               [6, 4],\n",
    "               [2, 2],\n",
    "               [2, 3]])\n",
    "\n",
    "#Updating the model with X1 and threshold of 4 \n",
    "# clf.update(X1, 4)\n",
    "\n",
    "for centroid in clf.centroids:\n",
    "    plt.scatter(clf.centroids[centroid][0], clf.centroids[centroid][1],\n",
    "                marker=\"o\", color=\"k\", s=150, linewidths=5)\n",
    "\n",
    "for classification in clf.classifications:\n",
    "    color = colors[classification]\n",
    "    for featureset in clf.classifications[classification]:\n",
    "        plt.scatter(featureset[0], featureset[1], marker=\"x\", color=color, s=150, linewidths=5)\n",
    "\n",
    "plt.show()"
   ]
  }
 ],
 "metadata": {
  "kernelspec": {
   "display_name": "Python 3.10.7 ('venv': venv)",
   "language": "python",
   "name": "python3"
  },
  "language_info": {
   "codemirror_mode": {
    "name": "ipython",
    "version": 3
   },
   "file_extension": ".py",
   "mimetype": "text/x-python",
   "name": "python",
   "nbconvert_exporter": "python",
   "pygments_lexer": "ipython3",
   "version": "3.10.7"
  },
  "orig_nbformat": 4,
  "vscode": {
   "interpreter": {
    "hash": "f7fd1b55a667aa91d3f88049cb2b0330e965cb77ee086e9d0bbb787b7ff82ca0"
   }
  }
 },
 "nbformat": 4,
 "nbformat_minor": 2
}
