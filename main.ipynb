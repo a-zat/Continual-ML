{
 "cells": [
  {
   "cell_type": "markdown",
   "metadata": {},
   "source": [
    "Import libraries and MNIST dataset"
   ]
  },
  {
   "cell_type": "code",
   "execution_count": 1,
   "metadata": {},
   "outputs": [
    {
     "name": "stderr",
     "output_type": "stream",
     "text": [
      "2022-09-10 00:39:05.811260: I tensorflow/core/platform/cpu_feature_guard.cc:193] This TensorFlow binary is optimized with oneAPI Deep Neural Network Library (oneDNN) to use the following CPU instructions in performance-critical operations:  AVX2 FMA\n",
      "To enable them in other operations, rebuild TensorFlow with the appropriate compiler flags.\n"
     ]
    },
    {
     "name": "stdout",
     "output_type": "stream",
     "text": [
      "The original dataset shapes from MNIST are\n",
      "    Train dataset shape: (60000, 28, 28)\n",
      "    Test dataset shape:  (10000, 28, 28)\n"
     ]
    }
   ],
   "source": [
    "# Includes\n",
    "import tensorflow as tf\n",
    "from tensorflow import keras\n",
    "from tensorflow.keras.datasets import mnist\n",
    "\n",
    "import numpy as np\n",
    "\n",
    "# Load dataset\n",
    "(data_train, label_train),(data_test, label_test) = mnist.load_data() # Load data\n",
    "print('The original dataset shapes from MNIST are')\n",
    "print(f'    Train dataset shape: {data_train.shape}')\n",
    "print(f'    Test dataset shape:  {data_test.shape}')"
   ]
  },
  {
   "cell_type": "markdown",
   "metadata": {},
   "source": [
    "Regroup data in low digits (0...5) and high (6..9)"
   ]
  },
  {
   "cell_type": "code",
   "execution_count": 2,
   "metadata": {},
   "outputs": [
    {
     "name": "stdout",
     "output_type": "stream",
     "text": [
      "After the separation of the dataset in groups higer and lower/equal than 6 the datasets are:\n",
      "     Train dataset lower than 6 has shape:  (36017, 28, 28, 1)\n",
      "     Train dataset higher than 6 has shape: (23983, 28, 28, 1)\n",
      "\n",
      "     Test dataset lower than 6 has shape:  (6031, 28, 28, 1)\n",
      "     Test dataset higher than 6 has shape: (3969, 28, 28, 1)\n"
     ]
    }
   ],
   "source": [
    "train_samples = label_train.shape[0]\n",
    "test_samples  = label_test.shape[0]\n",
    "img_rows, img_cols = 28, 28\n",
    "\n",
    "trainLow_samples = np.sum(np.where(label_train < 6, 1, 0))\n",
    "testLow_samples  = np.sum(np.where(label_test  < 6, 1, 0))\n",
    "\n",
    "# separate in containers data that is lower and higer than 6\n",
    "# TRAIN - LOW\n",
    "data_low_train   = np.zeros([trainLow_samples,28,28])\n",
    "label_low_train  = np.zeros(trainLow_samples)\n",
    "#       - HIGH\n",
    "data_high_train  = np.zeros([train_samples-trainLow_samples,28,28])\n",
    "label_high_train = np.zeros(train_samples-trainLow_samples)\n",
    "\n",
    "# TEST - LOW\n",
    "data_low_test   = np.zeros([testLow_samples,28,28])\n",
    "label_low_test  = np.zeros(testLow_samples)\n",
    "\n",
    "#      - HIGH\n",
    "data_high_test  = np.zeros([test_samples-testLow_samples,28,28])\n",
    "label_high_test = np.zeros(test_samples-testLow_samples)\n",
    "\n",
    "j,k = 0,0\n",
    "for i in range(0,train_samples):  \n",
    "    if(label_train[i]<6):\n",
    "        data_low_train[j,:,:] = data_train[i,:,:]\n",
    "        label_low_train[j]    = label_train[i]\n",
    "        j+=1\n",
    "    else:\n",
    "        data_high_train[k,:,:] = data_train[i,:,:]\n",
    "        label_high_train[k]    = label_train[i]\n",
    "        k+=1\n",
    "\n",
    "\n",
    "j,k = 0,0\n",
    "for i in range(0,test_samples):\n",
    "    if(label_test[i]>5):\n",
    "        data_high_test[k,:,:] = data_test[i,:,:]\n",
    "        label_high_test[k]    = label_test[i]\n",
    "        k+=1  \n",
    "    else:\n",
    "        data_low_test[j,:,:] = data_test[i,:,:]\n",
    "        label_low_test[j]    = label_test[i]\n",
    "        j+=1\n",
    "\n",
    "# Reshape\n",
    "data_low_train  = data_low_train.reshape(data_low_train.shape[0], img_rows, img_cols, 1)\n",
    "data_high_train = data_high_train.reshape(data_high_train.shape[0], img_rows, img_cols, 1)\n",
    "data_low_test   = data_low_test.reshape(data_low_test.shape[0], img_rows, img_cols, 1)\n",
    "data_high_test  = data_high_test.reshape(data_high_test.shape[0], img_rows, img_cols, 1)\n",
    "input_shape = (img_rows, img_cols, 1)\n",
    "\n",
    "# Print\n",
    "print('After the separation of the dataset in groups higer and lower/equal than 6 the datasets are:')\n",
    "print(f'     Train dataset lower than 6 has shape:  {data_low_train.shape}')\n",
    "print(f'     Train dataset higher than 6 has shape: {data_high_train.shape}')\n",
    "print()\n",
    "print(f'     Test dataset lower than 6 has shape:  {data_low_test.shape}')\n",
    "print(f'     Test dataset higher than 6 has shape: {data_high_test.shape}')\n",
    "\n",
    "# Normalize the colors from 0-255 to 0-1\n",
    "data_low_train  = data_low_train.astype(np.float32) / 255.0\n",
    "data_high_train = data_high_train.astype(np.float32) / 255.0\n",
    "data_low_test   = data_low_test.astype(np.float32) / 255.0\n",
    "data_high_test  = data_high_test.astype(np.float32) / 255.0"
   ]
  },
  {
   "cell_type": "markdown",
   "metadata": {},
   "source": [
    "Load Frozen model and features"
   ]
  },
  {
   "cell_type": "code",
   "execution_count": 3,
   "metadata": {},
   "outputs": [
    {
     "name": "stderr",
     "output_type": "stream",
     "text": [
      "2022-09-10 00:39:14.536203: I tensorflow/core/platform/cpu_feature_guard.cc:193] This TensorFlow binary is optimized with oneAPI Deep Neural Network Library (oneDNN) to use the following CPU instructions in performance-critical operations:  AVX2 FMA\n",
      "To enable them in other operations, rebuild TensorFlow with the appropriate compiler flags.\n"
     ]
    }
   ],
   "source": [
    "features = np.loadtxt('Models/Original_model/ll_features_10.txt')\n",
    "labels_features = np.loadtxt('Models/Original_model/ll_labels_features_10.txt')\n",
    "labels_features = labels_features.astype(int)\n",
    "model = keras.models.load_model('Models/Original_model/mnist_cnn.h5')\n",
    "\n",
    "# Print\n",
    "# model.summary()"
   ]
  },
  {
   "cell_type": "markdown",
   "metadata": {},
   "source": [
    "# Kmeans not using sklearn"
   ]
  },
  {
   "cell_type": "code",
   "execution_count": 80,
   "metadata": {},
   "outputs": [],
   "source": [
    "class K_Means:\n",
    "    def __init__(self, k=2, tol=0.001, max_iter=300):\n",
    "        self.k = k\n",
    "        self.tol = tol\n",
    "        self.max_iter = max_iter\n",
    "\n",
    "    def fit(self, data):\n",
    "\n",
    "        self.centroids = {}\n",
    "\n",
    "        for i in range(self.k):\n",
    "            self.centroids[i] = data[i]\n",
    "\n",
    "        for i in range(self.max_iter):\n",
    "            self.classifications = {}\n",
    "\n",
    "            for i in range(self.k):\n",
    "                self.classifications[i] = []\n",
    "\n",
    "            for featureset in data:\n",
    "                distances = [np.linalg.norm(featureset - self.centroids[centroid]) for centroid in self.centroids]\n",
    "                classification = distances.index(min(distances))\n",
    "                self.classifications[classification].append(featureset)\n",
    "\n",
    "            prev_centroids = dict(self.centroids)\n",
    "\n",
    "            for classification in self.classifications:\n",
    "                self.centroids[classification] = np.average(self.classifications[classification], axis=0)\n",
    "\n",
    "            optimized = True\n",
    "\n",
    "            for c in self.centroids:\n",
    "                original_centroid = prev_centroids[c]\n",
    "                current_centroid = self.centroids[c]\n",
    "                #if np.sum((current_centroid - original_centroid) / original_centroid * 100.0) > self.tol:\n",
    "                #    print(np.sum((current_centroid - original_centroid) / original_centroid * 100.0))\n",
    "                #    optimized = False\n",
    "\n",
    "            #if optimized:\n",
    "            #    break\n",
    "\n",
    "    def predict(self, data):\n",
    "        distances = [np.linalg.norm(data - self.centroids[centroid]) for centroid in self.centroids]\n",
    "        classification = distances.index(min(distances))\n",
    "        return classification\n",
    "\n",
    "    def update(self, new_data, delta):\n",
    "        for featureset in new_data:\n",
    "            distances = [np.linalg.norm(featureset - self.centroids[centroid]) for centroid in self.centroids]\n",
    "\n",
    "            if min(distances) < delta:\n",
    "                classification = distances.index(min(distances))\n",
    "                self.classifications[classification].append(featureset)\n",
    "                self.centroids[classification] = np.average(self.classifications[classification], axis=0)\n",
    "            else:\n",
    "                self.centroids[self.k] = featureset\n",
    "                self.classifications[self.k] = []\n",
    "                self.classifications[self.k].append(featureset)\n",
    "                self.k = self.k + 1"
   ]
  },
  {
   "cell_type": "markdown",
   "metadata": {},
   "source": [
    "## Fit initial dataset"
   ]
  },
  {
   "cell_type": "code",
   "execution_count": 81,
   "metadata": {},
   "outputs": [
    {
     "name": "stdout",
     "output_type": "stream",
     "text": [
      "(40, 512)\n",
      "(100, 512)\n"
     ]
    }
   ],
   "source": [
    "\n",
    "# Fit initial dataset. First we need to extract the corresponding images from the features list\n",
    "\n",
    "# Define initial set of features\n",
    "labels_init_list = np.array([1, 2, 5, 0])\n",
    "# labels_init_list = np.array([1, 2, 3, 4, 5, 6, 7, 8, 9, 0])\n",
    "\n",
    "# Initialize features and labels arrays for \n",
    "labels_init = np.array([])\n",
    "features_init = []\n",
    "\n",
    "for i in range(0, len(features)):\n",
    "      if labels_features[i] in labels_init_list:\n",
    "        features_init.append(features[i,:])\n",
    "        labels_init = np.append(labels_init, labels_features[i]).astype(int)\n",
    "\n",
    "\n",
    "features_init = np.array(features_init)\n",
    "\n",
    "# debug\n",
    "print(features_init.shape)\n",
    "print(features.shape)\n",
    "\n",
    "# Initial fitting with n clusters \n",
    "n_clust_init = len(labels_init_list)\n",
    "\n",
    "kmeans = K_Means(k = n_clust_init)\n",
    "\n",
    "kmeans.fit(features_init)\n",
    "\n",
    "# provaare aa fare predizioni e vedere se le mette nela categoria giusta"
   ]
  },
  {
   "cell_type": "markdown",
   "metadata": {},
   "source": [
    "K means script scorporated for debugging purpose"
   ]
  },
  {
   "cell_type": "code",
   "execution_count": 67,
   "metadata": {},
   "outputs": [
    {
     "name": "stdout",
     "output_type": "stream",
     "text": [
      "(512,)\n"
     ]
    }
   ],
   "source": [
    "# features_init[1]\n",
    "print(features_init[1].shape)"
   ]
  },
  {
   "cell_type": "code",
   "execution_count": 79,
   "metadata": {},
   "outputs": [
    {
     "name": "stdout",
     "output_type": "stream",
     "text": [
      "(512,)\n"
     ]
    }
   ],
   "source": [
    "# Variables\n",
    "k = 2\n",
    "max_iter = 300\n",
    "tol = 0.01\n",
    "\n",
    "\n",
    "\n",
    "\n",
    "\n",
    "\n",
    "\n",
    "data = features_init\n",
    "\n",
    "\n",
    "\n",
    "centroids = {}\n",
    "\n",
    "for i in range(k):\n",
    "    centroids[i] = data[i]\n",
    "\n",
    "for i in range(max_iter):\n",
    "    classifications = {}\n",
    "\n",
    "    for i in range(k):\n",
    "        classifications[i] = []\n",
    "\n",
    "    for featureset in data:\n",
    "        distances = [np.linalg.norm(featureset - centroids[centroid]) for centroid in centroids]\n",
    "        classification = distances.index(min(distances))\n",
    "        classifications[classification].append(featureset)\n",
    "\n",
    "    prev_centroids = dict(centroids)\n",
    "\n",
    "    for classification in classifications:\n",
    "      centroids[classification] = np.average(classifications[classification], axis=0)\n",
    "\n",
    "    optimized = True\n",
    "\n",
    "    #for c in centroids:\n",
    "    #    original_centroid = prev_centroids[c]\n",
    "    #    current_centroid = centroids[c]\n",
    "    #    if np.sum((current_centroid - original_centroid) / original_centroid * 100.0) > tol:\n",
    "    #        print(np.sum((current_centroid - original_centroid) / original_centroid * 100.0))\n",
    "    #        optimized = False\n",
    "\n",
    "    if optimized:\n",
    "        break\n",
    "\n",
    "\n",
    "print(centroids[0].shape)"
   ]
  },
  {
   "cell_type": "code",
   "execution_count": null,
   "metadata": {},
   "outputs": [],
   "source": [
    "\n",
    "\n",
    "\n",
    "\n",
    "# Fit\n",
    "\n",
    "\n",
    "\n",
    "\n",
    "\n",
    "\n",
    "class K_Means:\n",
    "    def __init__(self, k=2, tol=0.001, max_iter=300):\n",
    "        self.k = k\n",
    "        self.tol = tol\n",
    "        self.max_iter = max_iter\n",
    "\n",
    "    def fit(self, data):\n",
    "\n",
    "        # Initialize centroids with first data incoming\n",
    "\n",
    "\n",
    "    def predict(self, data):\n",
    "        distances = [np.linalg.norm(data - self.centroids[centroid]) for centroid in self.centroids]\n",
    "        classification = distances.index(min(distances))\n",
    "        return classification\n",
    "\n",
    "    def update(self, new_data, delta):\n",
    "        for featureset in new_data:\n",
    "            distances = [np.linalg.norm(featureset - self.centroids[centroid]) for centroid in self.centroids]\n",
    "\n",
    "            if min(distances) < delta:\n",
    "                classification = distances.index(min(distances))\n",
    "                self.classifications[classification].append(featureset)\n",
    "                self.centroids[classification] = np.average(self.classifications[classification], axis=0)\n",
    "            else:\n",
    "                self.centroids[self.k] = featureset\n",
    "                self.classifications[self.k] = []\n",
    "                self.classifications[self.k].append(featureset)\n",
    "                self.k = self.k + 1\n",
    "\n",
    "\n",
    "\n",
    "\n"
   ]
  },
  {
   "cell_type": "code",
   "execution_count": 45,
   "metadata": {},
   "outputs": [
    {
     "name": "stdout",
     "output_type": "stream",
     "text": [
      "50.0\n",
      "513.8888888888889\n",
      "19.333333333333336\n",
      "85.97370695537461\n"
     ]
    },
    {
     "data": {
      "image/png": "[encoded data removed]",
      "text/plain": [
       "<Figure size 640x480 with 1 Axes>"
      ]
     },
     "metadata": {},
     "output_type": "display_data"
    }
   ],
   "source": [
    "import matplotlib.pyplot as plt\n",
    "from matplotlib import style\n",
    "\n",
    "style.use('ggplot')\n",
    "colors = 10 * [\"g\", \"r\", \"c\", \"b\", \"k\"]\n",
    "\n",
    "X = np.array([[1, 2],\n",
    "              [1.5, 1.8],\n",
    "              [5, 8],\n",
    "              [8, 8],\n",
    "              [8,10],\n",
    "              [9,8],\n",
    "              [3,2],\n",
    "              [1,4],\n",
    "              [1, 0.6],\n",
    "              [9, 11]])\n",
    "\n",
    "clf = K_Means(k = 2)\n",
    "clf.fit(X)\n",
    "\n",
    "X1 = np.array([[6, 8],\n",
    "               [7, 10],\n",
    "               [6, 4],\n",
    "               [2, 2],\n",
    "               [2, 3]])\n",
    "\n",
    "#Updating the model with X1 and threshold of 4 \n",
    "# clf.update(X1, 4)\n",
    "\n",
    "for centroid in clf.centroids:\n",
    "    plt.scatter(clf.centroids[centroid][0], clf.centroids[centroid][1],\n",
    "                marker=\"o\", color=\"k\", s=150, linewidths=5)\n",
    "\n",
    "for classification in clf.classifications:\n",
    "    color = colors[classification]\n",
    "    for featureset in clf.classifications[classification]:\n",
    "        plt.scatter(featureset[0], featureset[1], marker=\"x\", color=color, s=150, linewidths=5)\n",
    "\n",
    "plt.show()"
   ]
  }
 ],
 "metadata": {
  "kernelspec": {
   "display_name": "Python 3.10.7 ('venv': venv)",
   "language": "python",
   "name": "python3"
  },
  "language_info": {
   "codemirror_mode": {
    "name": "ipython",
    "version": 3
   },
   "file_extension": ".py",
   "mimetype": "text/x-python",
   "name": "python",
   "nbconvert_exporter": "python",
   "pygments_lexer": "ipython3",
   "version": "3.10.7"
  },
  "orig_nbformat": 4,
  "vscode": {
   "interpreter": {
    "hash": "f7fd1b55a667aa91d3f88049cb2b0330e965cb77ee086e9d0bbb787b7ff82ca0"
   }
  }
 },
 "nbformat": 4,
 "nbformat_minor": 2
}
